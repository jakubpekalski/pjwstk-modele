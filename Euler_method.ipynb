{
  "nbformat": 4,
  "nbformat_minor": 0,
  "metadata": {
    "colab": {
      "name": "Euler_method.ipynb",
      "provenance": [],
      "authorship_tag": "ABX9TyOEngxC7yv5HPnz3MgMrU2+",
      "include_colab_link": true
    },
    "kernelspec": {
      "name": "python3",
      "display_name": "Python 3"
    }
  },
  "cells": [
    {
      "cell_type": "markdown",
      "metadata": {
        "id": "view-in-github",
        "colab_type": "text"
      },
      "source": [
        "<a href=\"https://colab.research.google.com/github/jakubpekalski/pjwstk-modele/blob/main/Euler_method.ipynb\" target=\"_parent\"><img src=\"https://colab.research.google.com/assets/colab-badge.svg\" alt=\"Open In Colab\"/></a>"
      ]
    },
    {
      "cell_type": "code",
      "metadata": {
        "id": "juDpNHe2v61o"
      },
      "source": [
        "def odeEuler(f,y0,t):\r\n",
        "    '''\r\n",
        "    f : function\r\n",
        "    y0 : number\r\n",
        "    t : array\r\n",
        "    '''\r\n",
        "    y = np.zeros(len(t))\r\n",
        "    y[0] = y0\r\n",
        "    for n in range(0,len(t)-1):\r\n",
        "        y[n+1] = y[n] + f(y[n],t[n])*(t[n+1] - t[n])\r\n",
        "    return y"
      ],
      "execution_count": 1,
      "outputs": []
    },
    {
      "cell_type": "code",
      "metadata": {
        "colab": {
          "base_uri": "https://localhost:8080/",
          "height": 302
        },
        "id": "vAo3XBe0wFKe",
        "outputId": "3cd1a74a-3801-46a5-c610-81f2e5ece9d5"
      },
      "source": [
        "import matplotlib.pyplot as plt\r\n",
        "import numpy as np\r\n",
        "\r\n",
        "a = 0\r\n",
        "b = 2\r\n",
        "n = 21\r\n",
        "\r\n",
        "t = np.linspace(a,b,n)\r\n",
        "y0 = 1\r\n",
        "\r\n",
        "f = lambda y,t: y\r\n",
        "\r\n",
        "plt.plot(t,odeEuler(f,y0,t),'b.-',label = 'Euler')\r\n",
        "plt.plot(t,np.exp(t),'r-', label=r'$e^t$')\r\n",
        "\r\n",
        "plt.title(\"Rozwiązanie równania: $y'=y , y(0)=1$\")\r\n",
        "plt.legend()\r\n",
        "plt.xlabel('t', fontsize =14)\r\n",
        "plt.ylabel('y', fontsize =14)\r\n",
        "plt.show()"
      ],
      "execution_count": 18,
      "outputs": [
        {
          "output_type": "display_data",
          "data": {
            "image/png": "[encoded data removed]",
            "text/plain": [
              "<Figure size 432x288 with 1 Axes>"
            ]
          },
          "metadata": {
            "tags": [],
            "needs_background": "light"
          }
        }
      ]
    },
    {
      "cell_type": "code",
      "metadata": {
        "id": "lISU0fW9xy6d"
      },
      "source": [
        ""
      ],
      "execution_count": null,
      "outputs": []
    }
  ]
}