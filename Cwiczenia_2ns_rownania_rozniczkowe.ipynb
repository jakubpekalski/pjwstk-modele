{
  "nbformat": 4,
  "nbformat_minor": 0,
  "metadata": {
    "colab": {
      "name": "Cwiczenia 2ns - rownania rozniczkowe.ipynb",
      "provenance": [],
      "collapsed_sections": [],
      "authorship_tag": "ABX9TyNMYKOEMdvcZZNRQxXp8UBM",
      "include_colab_link": true
    },
    "kernelspec": {
      "name": "python3",
      "display_name": "Python 3"
    },
    "language_info": {
      "name": "python"
    }
  },
  "cells": [
    {
      "cell_type": "markdown",
      "metadata": {
        "id": "view-in-github",
        "colab_type": "text"
      },
      "source": [
        "<a href=\"https://colab.research.google.com/github/jakubpekalski/pjwstk-modele/blob/main/Cwiczenia_2ns_rownania_rozniczkowe.ipynb\" target=\"_parent\"><img src=\"https://colab.research.google.com/assets/colab-badge.svg\" alt=\"Open In Colab\"/></a>"
      ]
    },
    {
      "cell_type": "markdown",
      "metadata": {
        "id": "xaMyLsZzOo1n"
      },
      "source": [
        "## W poniższym okienku proszę wpisać swoje **imię, nazwisko i numer grupy**."
      ]
    },
    {
      "cell_type": "markdown",
      "metadata": {
        "id": "EBt9Lf4IOqqH"
      },
      "source": [
        "*   Imię:\n",
        "*   Nazwisko:\n",
        "*   Grupa:"
      ]
    },
    {
      "cell_type": "markdown",
      "metadata": {
        "id": "I0OTkGzEQtSf"
      },
      "source": [
        "## **Wstęp**\n",
        "\n",
        "Równanie różniczkowe pierwszego stopnia postaci:\n",
        "\n",
        "$y'(t) = f(y,t)$\n",
        "\n",
        "$y(0) = y_0$.\n",
        "\n",
        "Można rozwiązań korzystając z [metody Eulera](https://pl.wikipedia.org/wiki/Metoda_Eulera):\n",
        "\n",
        "$ y (t+h) = y(t) + h f(y,t)$,\n",
        "\n",
        "lub dokładniejszej metody [midpoint](https://en.wikipedia.org/wiki/Midpoint_method):\n",
        "\n",
        "$ y(t+h) = y(t) + h f\\left(y(t) + \\frac{h}{2} f(y(t),t), t + \\frac{h}{2}\\right)$"
      ]
    },
    {
      "cell_type": "code",
      "metadata": {
        "id": "kNFZaYJsO2QD"
      },
      "source": [
        "# Funkcja rozwiązująca równanie różniczkowe pierwszego rzędu metodą Eulera\n",
        "\n",
        "import numpy as np\n",
        "\n",
        "def odeEuler(f,y0,t):\n",
        "    '''\n",
        "    f : funkcja, prawa strona rozwiązywanego równania różniczkowego: f(y,t)\n",
        "    y0: liczba, wartość początkowa y\n",
        "    t : jednowymiarowa tablica numpy\n",
        "    '''\n",
        "    y = np.zeros(len(t))\n",
        "    y[0] = y0\n",
        "    for n in range(0,len(t)-1):\n",
        "        h = (t[n+1] - t[n])\n",
        "        y[n+1] = y[n] + f(y[n],t[n])*(t[n+1] - t[n])\n",
        "    return y"
      ],
      "execution_count": null,
      "outputs": []
    },
    {
      "cell_type": "markdown",
      "metadata": {
        "id": "i6dJyyQTO1uZ"
      },
      "source": [
        "\n",
        " # **Zadanie 1** \n",
        " Uzupełnij poniższą funkcję $odeMidPoint$, tak by poprawnie wykonywała ona kolejne kroki metody Mid Point."
      ]
    },
    {
      "cell_type": "code",
      "metadata": {
        "id": "s4pj86CEO1TF"
      },
      "source": [
        "def odeMidPoint(f,y0,t):\n",
        "    '''\n",
        "    f : funkcja, prawa strona rozwiązywanego równania różniczkowego: f(y,t)\n",
        "    y0 : liczba, wartość początkowa y\n",
        "    t : jednowymiarowa tablica numpy\n",
        "    '''\n",
        "    y = np.zeros(len(t))\n",
        "    y[0] = y0\n",
        "    for n in range(0,len(t)-1):\n",
        "        h = (t[n+1] - t[n])\n",
        "        # tu uzupełniać:\n",
        "        y[n+1] = y[n] + \n",
        "    return y"
      ],
      "execution_count": null,
      "outputs": []
    },
    {
      "cell_type": "markdown",
      "metadata": {
        "id": "kz37GDvgQag5"
      },
      "source": [
        "# **Zadanie 2**\n",
        "\n",
        "Rozwiąż metodami Eulera i MidPoint następujące równanie różniczkowe:\n",
        " \n",
        "  $y'(t) = y^2(t)$, \n",
        "  \n",
        "  $y(0) = -1$.\n",
        "  \n",
        "Uzyskane rozwiązanie porównaj z rozwiązaniem analitycznym $y(t) = \\frac{-1}{t+1}$."
      ]
    },
    {
      "cell_type": "code",
      "metadata": {
        "id": "zu5sAbleQ02S"
      },
      "source": [
        "# Zdefiniuj przedział czasowy na którym będziemy szukali rozwiązania:\n",
        "a = \n",
        "b = \n",
        "\n",
        "# Ile kroków zrobimy w tym przedziale?\n",
        "n =\n",
        "\n",
        "# Stworz tablice kroków czasowych t:\n",
        "t =\n",
        "\n",
        "# Podaj wartość w punkcie początkowym:\n",
        "y0 =\n",
        "\n",
        "# Zdefiniuj funkcję f(y,t)\n",
        "def f(y,t):\n",
        "\n",
        "# Znajdź rozwiązania:\n",
        "sol_euler = \n",
        "sol_midpoint = \n",
        "\n",
        "# Narysuj uzyskane rozwiązanie w funkcji czasu t\n",
        "plt.plot(t , sol_euler, label='Euler')\n",
        "plt.plot(t , sol_midpoint, label='Mid Point')\n",
        "\n",
        "# Narysuj rozwiązanie analityczne\n",
        "plt.plot(t , , label = 'Exact')\n",
        "plt.legend()\n",
        "\n",
        "plt.show()"
      ],
      "execution_count": null,
      "outputs": []
    },
    {
      "cell_type": "markdown",
      "metadata": {
        "id": "3QYfhxNtOyPP"
      },
      "source": [
        "## **Dynamika punktu materialnego**\n",
        "\n",
        "Ruch swobodnego punktu materialnego:\n",
        "\n",
        "### $\\frac{d^2 {\\bf r}(t)}{dt^2} = \\frac{{\\bf F}(t)}{m} \\quad $   ( II zasada dynamiki Newtona).\n",
        "\n",
        "Powyższe równanie II rzędu, można zapisać w postaci dwóch równań I rzędu:\n",
        "\n",
        "### $ \\frac{d{\\bf r}(t)}{dt} = {\\bf v}(t) $\n",
        "\n",
        "### $ \\frac{d{\\bf v}(t)}{dt} = \\frac{{\\bf F}(t)}{m}$.\n",
        "\n",
        "Wektor ${\\bf F}(t)$ opisuje wypadkową siłę działającą na punkt materialny. W szczególności ${\\bf F}(t)$ może być sumą sił grawitacyjnej ${\\bf F_g} = m {\\bf g}$ oraz siły oporu ośrodka ${\\bf F_t}  = - c {\\bf v}(t)$.\n"
      ]
    },
    {
      "cell_type": "markdown",
      "metadata": {
        "id": "3GTP76OQa2ys"
      },
      "source": [
        "# **Zadanie 3**\n",
        " Uzupełnij funkcję *odeEuler2* tak, aby implementowała rozwiązywanie powyższego układu równań różniczkowych metodą Eulera."
      ]
    },
    {
      "cell_type": "code",
      "metadata": {
        "id": "-Qyftws2W75h"
      },
      "source": [
        "# implementacja rozwiązywania dynamiki punktu materialnego metodą Eulera\n",
        "import numpy as np\n",
        "\n",
        "def odeEuler2(f1, f2, r0, v0, t):\n",
        "    '''\n",
        "    f1 : funkcja r, v, t, prawa strona równania 1\n",
        "    f2 : funkcja r, v, t, prawa strona równania 2\n",
        "    r0 : trójwymiarowy wektor położenia początkowego, tablica numpy\n",
        "    v0 : trójwymiarowy wektor prędkości początkowych, tablica numpy\n",
        "    t  : jednowymiarowy wektor puntków czasowych, tablica numpy\n",
        "    '''\n",
        "    r = np.zeros((len(t),3))\n",
        "    v = np.zeros((len(t),3))\n",
        "    r[0,:] = r0\n",
        "    v[0,:] = v0\n",
        "    for n in range(0,len(t)-1):\n",
        "        h =\n",
        "        r[n+1,:] = r[n,:] + \n",
        "        v[n+1,:] = v[n,:] + \n",
        "    return r ,v\n",
        "    return r ,v"
      ],
      "execution_count": null,
      "outputs": []
    },
    {
      "cell_type": "markdown",
      "metadata": {
        "id": "3axN2XvsVM4l"
      },
      "source": [
        " # **Zadanie 4** \n",
        "\n",
        "### **Rzut ukośny w polu grawitacyjnym**\n",
        "\n",
        "**a)** Rozwiąż metodą Eulera układ równań ruchu cząstki materialnej o masie $m = 1 kg$, która w chwili $t_0 = 0$ została wystrzelona pod kątem $\\alpha = 60^{\\circ}$ do powierzchni Ziemi, uzyskując prędkość początkową ${\\bf v}(t_0) = 80 m/s$. Przyjmij, że na cząstkę działa jedynie siła grawitacji, a ruch zaczął się z punktu:\n",
        "> \n",
        "> ${\\bf r}_0 (t_0) = (0,0,0)$,\n",
        ">\n",
        "Wyznaczone ${\\bf r}(t)$ narysuj.\n",
        "\n",
        "**b)** Narysuj:\n",
        "\n",
        "- zależność obu składowych prędkości od czasu,\n",
        "\n",
        "- zależność energii kinetycznej $m{\\bf v}^2/2$, energii potencjalnej $m{\\bf g}h$ oraz energii całkowitej od czasu.\n",
        "\n",
        "**c)** Otrzymane rozwiązanie porównaj z rozwiązaniem analitycznym:\n",
        ">\n",
        "> $x = v_{0x} \\cdot t$\n",
        ">\n",
        "> $y = v_{0y} \\cdot t - gt^2/2$\n",
        ">\n",
        "> $v_y = v_{0y} - gt$\n",
        ">\n",
        "> $v_x = v_{0x}$\n",
        "\n",
        "\n"
      ]
    },
    {
      "cell_type": "code",
      "metadata": {
        "id": "Ozj_Qqi4oTVP"
      },
      "source": [
        "a = 0\n",
        "b = 15\n",
        "n = 50\n",
        "t = np.linspace(a,b,n)\n",
        "\n",
        "# uzupelnij\n",
        "m = \n",
        "v0m =\n",
        "alpha =\n",
        "\n",
        "v0 = np.array([ , , ])\n",
        "g  = np.array([ , , ])\n",
        "r0 = np.array([ , , ])\n",
        "\n",
        "def f1(r, v, t):\n",
        "\n",
        "\n",
        "def f2(r, v, t):\n",
        "\n",
        "\n",
        "r, v  =   "
      ],
      "execution_count": null,
      "outputs": []
    },
    {
      "cell_type": "code",
      "metadata": {
        "id": "1etyiYhdoTRh"
      },
      "source": [
        "plt.figure(1)\n",
        "plt.title('Droga w kierunku x')\n",
        "\n",
        "# uzupelnij\n",
        "plt.plot(t,    ,'bo' , label = 'Euler')\n",
        "plt.plot(t,    , 'r-', label = 'exact', lw = 2)\n",
        "\n",
        "plt.axis([a,b,0,np.max(r[:,0])])\n",
        "plt.legend()\n",
        "plt.xlabel('t', fontsize =14)\n",
        "plt.ylabel('x', fontsize =14)"
      ],
      "execution_count": null,
      "outputs": []
    },
    {
      "cell_type": "code",
      "metadata": {
        "id": "_EiXbIpnoTMF"
      },
      "source": [
        "plt.figure(2)\n",
        "plt.title('Droga w kierunku y')\n",
        "\n",
        "plt.plot(t,   ,'bo' , label = 'Euler')\n",
        "plt.plot(t,   , 'r-', label = 'exact', lw = 2)\n",
        "plt.axis([a,b,0,np.max(r[:,1])])\n",
        "plt.xlabel('t', fontsize =14)\n",
        "plt.ylabel('y', fontsize =14)"
      ],
      "execution_count": null,
      "outputs": []
    },
    {
      "cell_type": "code",
      "metadata": {
        "id": "PyTvog_-ogYr"
      },
      "source": [
        "plt.figure(3)\n",
        "plt.title(\"Prędkość\")\n",
        "\n",
        "plt.plot(t,    ,'bo',label = 'vx Euler')\n",
        "plt.plot(t,    ,'go',label = 'vy Euler')\n",
        "\n",
        "plt.plot(t,      ,'r--',label = 'vx exact')\n",
        "plt.plot(t,      ,'r-',label = 'vy exact')\n",
        "\n",
        "plt.legend()\n",
        "plt.xlabel('t', fontsize =14)\n",
        "plt.ylabel('v', fontsize =14)"
      ],
      "execution_count": null,
      "outputs": []
    },
    {
      "cell_type": "code",
      "metadata": {
        "id": "APJyzq4aolvO"
      },
      "source": [
        "plt.figure(4)\n",
        "plt.title(\"Energia\")\n",
        "\n",
        "Ek = \n",
        "Ep = \n",
        "\n",
        "plt.plot(t,Ek,'bo',label = 'kinetyncza')\n",
        "plt.plot(t,Ep,'go',label = 'potencjalna')\n",
        "plt.plot(t,Ep+Ek,'ro',label = 'całkowita')\n",
        "plt.legend()\n",
        "plt.xlabel('t', fontsize =14)\n",
        "plt.ylabel('Energia', fontsize =14)"
      ],
      "execution_count": null,
      "outputs": []
    },
    {
      "cell_type": "markdown",
      "metadata": {
        "id": "UYPwk38spm80"
      },
      "source": [
        " # **Zadanie 5 (do domu)** \n",
        "\n",
        "### **Rzut ukośny w polu grawitacyjnym z uwzględnieniem oporu ośrodka**\n",
        "\n",
        "**Zad. 1 a) i b)** rozwiąż w przypadku, gdy na punkt materialny poza siła grawitacyjną działa również siła oporu ośrodka postaci:\n",
        "\n",
        "$F_t = - c {\\bf v}$."
      ]
    },
    {
      "cell_type": "code",
      "metadata": {
        "id": "_MiSz2-pY9E9"
      },
      "source": [
        ""
      ],
      "execution_count": null,
      "outputs": []
    },
    {
      "cell_type": "markdown",
      "metadata": {
        "id": "YsnX_iawXLmm"
      },
      "source": [
        "## **Metoda Runge-Kutta rozwiązywania równań różniczkowych**\n",
        "\n",
        "Metody Eulera i MidPoint można rozważać jako szczególne przypadki ogólniejszej metody rozwiązywania równań różniczkowych, w której kolejne punkty przybliżające $y$ wyznaczane są w sposób iteracyjny za pomocą niniejszej reguły:\n",
        "\n",
        "> $y_{n+1} = y_{n} + h \\sum_m {a_m k_m}$,\n",
        "\n",
        "gdzie $a_m$ to wagi z jakimi uwzględnia się styczne $k_m$ w kolejnych krokach. Styczne te bierze się z przedziału $[t_n, t_{n+1}]$, a wagi muszą spełniać warunek $\\sum_m a_m = 1$.\n",
        "\n",
        "### Metoda Runge-Kutta 4 rzędu\n",
        "\n",
        "W metodzie RK4 uwzględnia się wkład od 4 stycznych $k$ wyliczonych w następujący sposób:\n",
        "\n",
        "> $k_1 = f(y_n, t_n)$ \n",
        "(styczna z początku przedziału, jak w metodzie **Eulera**)\n",
        "\n",
        "> $k_2 = f(y_n + \\frac{h}{2} k_1, t_n + \\frac{h}{2} $)\n",
        "(styczna ze środka przedziału, jak w metodzie **MidPoint**)\n",
        "\n",
        "> $k_3 = f(y_n + \\frac{h}{2} k_2, t_n + \\frac{h}{2} $)\n",
        "(styczna ze środka przedziału, ale korzystająca z lepszego oszacowania wartości y w punkcie środkowym)\n",
        "\n",
        "> $k_4 = f(y_n + h k_3, t_n +h)$ \n",
        "(styczna z końca przedziału)\n",
        "\n",
        "Powyższe styczne uwzględnia się z następującymi wagami:\n",
        "\n",
        "> $y_{n+1} = y_n + \\frac{h}{6}(k_1+ 2k_2 + 2k_3 + k_4)$\n",
        "\n",
        "Rysunek poniżej ilustruje metode RK4 ([źródło](https://en.wikipedia.org/wiki/Runge%E2%80%93Kutta_methods)).\n",
        "\n"
      ]
    },
    {
      "cell_type": "markdown",
      "metadata": {
        "id": "V9Q5-ig5XTst"
      },
      "source": [
        "![480px-Runge-Kutta_slopes.svg.png](data:image/png;base64,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)"
      ]
    },
    {
      "cell_type": "markdown",
      "metadata": {
        "id": "ZF6D-KAiXaCl"
      },
      "source": [
        "# **Zadanie 3 (do domu)** \n",
        "\n",
        " Uzupełnij poniższą implementację metody RK4 rozwiązującą układ równań postaci:\n",
        "\n",
        "> ### $ \\frac{d{y}(t)}{dt} = {f}(y,t) $\n",
        "\n",
        "z warunkiem początkowymi:\n",
        "\n",
        "> $y_(0) = y_{0}$,\n"
      ]
    },
    {
      "cell_type": "code",
      "metadata": {
        "id": "7nVF0iKiXTJg"
      },
      "source": [
        "def odeRK4(f, y0, t):\n",
        "    '''\n",
        "    f :  prawa strona równania, funkcja\n",
        "    y0 : warunek początkowy, liczba\n",
        "    t  : jednowymiarowy wektor puntków czasowych, tablica numpy\n",
        "    '''\n",
        "    x = np.zeros((len(t)))\n",
        "    y = np.zeros((len(t)))\n",
        "    z = np.zeros((len(t)))\n",
        "    y[0] =\n",
        "\n",
        "    for n in range(0,len(t)-1):\n",
        "        h = \n",
        "        k1 = \n",
        "        k2 = \n",
        "        k3 = \n",
        "        k4 = \n",
        "\n",
        "        y[n+1] = \n",
        "\n",
        "    return y"
      ],
      "execution_count": null,
      "outputs": []
    },
    {
      "cell_type": "markdown",
      "metadata": {
        "id": "0b7ME5bWXjUt"
      },
      "source": [
        "# **Zadanie 4 (do domu)**\n",
        "\n",
        "Sprawdź poprawność implementacji porównując rozwiązanie uzyskane metodą RK4 z  rozwiązaniem analitycznym równania:\n",
        "\n",
        "> y'(t) = y\n",
        "\n",
        "> y(0) = 1."
      ]
    },
    {
      "cell_type": "code",
      "metadata": {
        "id": "fh8G7cddXkDN"
      },
      "source": [
        ""
      ],
      "execution_count": null,
      "outputs": []
    }
  ]
}