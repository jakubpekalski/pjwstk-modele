{
  "nbformat": 4,
  "nbformat_minor": 0,
  "metadata": {
    "colab": {
      "name": "Kopia notatnika Cw 1. rozwijanie w szereg.ipynb",
      "provenance": [],
      "include_colab_link": true
    },
    "kernelspec": {
      "name": "python3",
      "display_name": "Python 3"
    }
  },
  "cells": [
    {
      "cell_type": "markdown",
      "metadata": {
        "id": "view-in-github",
        "colab_type": "text"
      },
      "source": [
        "<a href=\"https://colab.research.google.com/github/jakubpekalski/pjwstk-modele/blob/main/Cw_1_rozwijanie_w_szereg.ipynb\" target=\"_parent\"><img src=\"https://colab.research.google.com/assets/colab-badge.svg\" alt=\"Open In Colab\"/></a>"
      ]
    },
    {
      "cell_type": "markdown",
      "metadata": {
        "id": "uiNmey7lUxba"
      },
      "source": [
        "\r\n",
        "#**Ćwiczenia 1**\r\n",
        "\r\n",
        "### Czego się nauczymy?\r\n",
        "\r\n",
        "1. Podstawowych poleceń i składni pythona\r\n",
        "2. Korzystania google colabolatory\r\n",
        "3. Przybliżania funkcji wielomianem\r\n",
        "\r\n"
      ]
    },
    {
      "cell_type": "code",
      "metadata": {
        "id": "XrsRwYqpTyXd"
      },
      "source": [
        "# Podstawową biblioteką do obliczeń numerycznych w pythonie jest numpy:\r\n",
        "import numpy as np\r\n",
        "\r\n",
        "# Rysować wykresy będziemy korzystając z biblioteki matplotlib:\r\n",
        "import matplotlib.pyplot as plt"
      ],
      "execution_count": 3,
      "outputs": []
    },
    {
      "cell_type": "markdown",
      "metadata": {
        "id": "qzw58C5IFNYl"
      },
      "source": [
        "### **Podstawy python'a**\r\n",
        "\r\n",
        "\r\n"
      ]
    },
    {
      "cell_type": "code",
      "metadata": {
        "id": "zda9sgiMFMqC"
      },
      "source": [
        "# Wypisywanie wyników\r\n",
        "print(\"Hello World\")"
      ],
      "execution_count": null,
      "outputs": []
    },
    {
      "cell_type": "code",
      "metadata": {
        "id": "ckdp6amOFd5i"
      },
      "source": [
        "# Pętla for\r\n",
        "for i in range(1,10,2):\r\n",
        "  print(\"i ma teraz wartość:\", i)"
      ],
      "execution_count": null,
      "outputs": []
    },
    {
      "cell_type": "code",
      "metadata": {
        "colab": {
          "base_uri": "https://localhost:8080/",
          "height": 282
        },
        "id": "MnEA0HIoF206",
        "outputId": "29db1bbd-068d-4a4b-f23d-b13de82a8e47"
      },
      "source": [
        "# Rysowanie wykresów\r\n",
        "\r\n",
        "# Definiowanie tabeli 200 liczb od 1 do 10\r\n",
        "x = np.linspace(1,10,200)\r\n",
        "\r\n",
        "# Przypisanie każdej z liczb wartości funkcji\r\n",
        "y = np.cos(x)\r\n",
        "\r\n",
        "# Rysowanie\r\n",
        "plt.plot(x,y)"
      ],
      "execution_count": 9,
      "outputs": [
        {
          "output_type": "execute_result",
          "data": {
            "text/plain": [
              "[<matplotlib.lines.Line2D at 0x7ffa8008a810>]"
            ]
          },
          "metadata": {
            "tags": []
          },
          "execution_count": 9
        },
        {
          "output_type": "display_data",
          "data": {
            "image/png": "[encoded data removed]",
            "text/plain": [
              "<Figure size 432x288 with 1 Axes>"
            ]
          },
          "metadata": {
            "tags": [],
            "needs_background": "light"
          }
        }
      ]
    },
    {
      "cell_type": "code",
      "metadata": {
        "id": "Ceg8MxQFGd3U"
      },
      "source": [
        ""
      ],
      "execution_count": null,
      "outputs": []
    },
    {
      "cell_type": "markdown",
      "metadata": {
        "id": "510KNffxhTHl"
      },
      "source": [
        "### **Zadanie. 1**\r\n",
        "\r\n",
        "Policz pochodną funkcji $f(x) = 2x$ korzystając z poniższej definicji:\r\n",
        "\r\n",
        "$f'(x) = \\lim_{h \\to 0} \\frac{f(x+h)-f(x)}{x+h}$"
      ]
    },
    {
      "cell_type": "code",
      "metadata": {
        "id": "E44NMbW1iBA5"
      },
      "source": [
        "# Definiujemy tablicę n wartości x z przedziału od a do b\r\n",
        "a = 0\r\n",
        "b = 10\r\n",
        "n = 1000\r\n",
        "\r\n",
        "x = np.linspace(a,b,n)"
      ],
      "execution_count": null,
      "outputs": []
    },
    {
      "cell_type": "code",
      "metadata": {
        "id": "_bYV5lohim_E"
      },
      "source": [
        "y = 2*x"
      ],
      "execution_count": null,
      "outputs": []
    },
    {
      "cell_type": "code",
      "metadata": {
        "colab": {
          "base_uri": "https://localhost:8080/"
        },
        "cellView": "form",
        "id": "PdpcZgzuim7k",
        "outputId": "3261e898-5a42-4d27-8d45-afa6931870a4"
      },
      "source": [
        "#@title Rozwiązanie\n",
        "i = np.random.randint(0,1000)\n",
        "\n",
        "df = (y[i] - y[i+1])/(x[i] - x[i+1])\n",
        "print(df)"
      ],
      "execution_count": null,
      "outputs": [
        {
          "output_type": "stream",
          "text": [
            "2.0\n"
          ],
          "name": "stdout"
        }
      ]
    },
    {
      "cell_type": "code",
      "metadata": {
        "id": "rCs8bHJGjZJ8"
      },
      "source": [
        ""
      ],
      "execution_count": null,
      "outputs": []
    },
    {
      "cell_type": "code",
      "metadata": {
        "id": "W_YhIejooVsq"
      },
      "source": [
        ""
      ],
      "execution_count": null,
      "outputs": []
    }
  ]
}