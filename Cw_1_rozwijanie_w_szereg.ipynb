{
  "nbformat": 4,
  "nbformat_minor": 0,
  "metadata": {
    "colab": {
      "name": "Cw 1. rozwijanie w szereg.ipynb",
      "provenance": [],
      "include_colab_link": true
    },
    "kernelspec": {
      "name": "python3",
      "display_name": "Python 3"
    }
  },
  "cells": [
    {
      "cell_type": "markdown",
      "metadata": {
        "id": "view-in-github",
        "colab_type": "text"
      },
      "source": [
        "<a href=\"https://colab.research.google.com/github/jakubpekalski/pjwstk-modele/blob/main/Cw_1_rozwijanie_w_szereg.ipynb\" target=\"_parent\"><img src=\"https://colab.research.google.com/assets/colab-badge.svg\" alt=\"Open In Colab\"/></a>"
      ]
    },
    {
      "cell_type": "markdown",
      "metadata": {
        "id": "79SXxpm2_gDJ"
      },
      "source": [
        "## W poniższym okienku proszę wpisać swoje **imię, nazwisko i numer grupy**."
      ]
    },
    {
      "cell_type": "markdown",
      "metadata": {
        "id": "4ntTqpjY_qLH"
      },
      "source": [
        "*   Imię: Jakub\r\n",
        "*   Nazwisko: Pekalski\r\n",
        "*   Grupa: Grupa 24c"
      ]
    },
    {
      "cell_type": "markdown",
      "metadata": {
        "id": "YLTP3AJIAbbq"
      },
      "source": [
        "\r\n",
        "\r\n",
        "---\r\n",
        "\r\n",
        "---\r\n",
        "\r\n",
        "\r\n",
        "\r\n"
      ]
    },
    {
      "cell_type": "markdown",
      "metadata": {
        "id": "uiNmey7lUxba"
      },
      "source": [
        "\r\n",
        "#**Ćwiczenia 1**\r\n",
        "\r\n",
        "### Czego się nauczymy?\r\n",
        "\r\n",
        "1. Podstawowych poleceń i składni pythona\r\n",
        "2. Korzystania google colabolatory\r\n",
        "3. Przybliżania funkcji wielomianem\r\n",
        "\r\n"
      ]
    },
    {
      "cell_type": "code",
      "metadata": {
        "id": "XrsRwYqpTyXd"
      },
      "source": [
        "# Podstawową biblioteką do obliczeń numerycznych w pythonie jest numpy:\r\n",
        "import numpy as np\r\n",
        "\r\n",
        "# Rysować wykresy będziemy najcześciej korzystając z biblioteki matplotlib:\r\n",
        "import matplotlib.pyplot as plt"
      ],
      "execution_count": 3,
      "outputs": []
    },
    {
      "cell_type": "markdown",
      "metadata": {
        "id": "qzw58C5IFNYl"
      },
      "source": [
        "### **Podstawy python'a**\r\n",
        "\r\n",
        "\r\n"
      ]
    },
    {
      "cell_type": "code",
      "metadata": {
        "id": "zda9sgiMFMqC",
        "outputId": "85999311-f825-4072-e58f-c0717b700164",
        "colab": {
          "base_uri": "https://localhost:8080/"
        }
      },
      "source": [
        "# Wypisywanie wyników\r\n",
        "print(\"Hello World\")"
      ],
      "execution_count": 4,
      "outputs": [
        {
          "output_type": "stream",
          "text": [
            "Hello World\n"
          ],
          "name": "stdout"
        }
      ]
    },
    {
      "cell_type": "code",
      "metadata": {
        "id": "ckdp6amOFd5i",
        "outputId": "35b10648-5cd1-4372-be5e-d10271a7b65e",
        "colab": {
          "base_uri": "https://localhost:8080/"
        }
      },
      "source": [
        "# Pętla for\r\n",
        "for i in range(1,10,2):\r\n",
        "  print(\"i ma teraz wartość:\", i, i +1)"
      ],
      "execution_count": 10,
      "outputs": [
        {
          "output_type": "stream",
          "text": [
            "i ma teraz wartość: 1 2\n",
            "i ma teraz wartość: 3 4\n",
            "i ma teraz wartość: 5 6\n",
            "i ma teraz wartość: 7 8\n",
            "i ma teraz wartość: 9 10\n"
          ],
          "name": "stdout"
        }
      ]
    },
    {
      "cell_type": "code",
      "metadata": {
        "colab": {
          "base_uri": "https://localhost:8080/"
        },
        "id": "aR73d5GOGJjH",
        "outputId": "bbac9ae0-147f-4581-beaf-4ae8d12de09c"
      },
      "source": [
        "# Funkcja (liniowa f(x) = ax+b)\r\n",
        "def f(x, a,b):\r\n",
        "    y = a*x+b\r\n",
        "    return y\r\n",
        "\r\n",
        "print(\"f(x = 1, a = 3, b = -1) = \", f(1, 3, -1))\r\n",
        "\r\n",
        "# Funkcja (kwadratowa g(x) = ax^2 + bx + c)\r\n",
        "def g(x, a=1, b=0 ,c=0):\r\n",
        "    y = a*x**2 + b*x + c \r\n",
        "    return y\r\n",
        "\r\n",
        "print(\"g(x = 1) = \", g(1))"
      ],
      "execution_count": 17,
      "outputs": [
        {
          "output_type": "stream",
          "text": [
            "f(x = 1, a = 3, b = -1) =  2\n",
            "g(x = 1) =  1\n"
          ],
          "name": "stdout"
        }
      ]
    },
    {
      "cell_type": "code",
      "metadata": {
        "id": "aY6p-yc10FXA"
      },
      "source": [
        ""
      ],
      "execution_count": 19,
      "outputs": []
    },
    {
      "cell_type": "code",
      "metadata": {
        "id": "MnEA0HIoF206",
        "outputId": "fb5b83d0-fbdb-4c20-f9e3-f12c0b9b4b04",
        "colab": {
          "base_uri": "https://localhost:8080/",
          "height": 282
        }
      },
      "source": [
        "# Rysowanie wykresów\r\n",
        "\r\n",
        "# Definiowanie tabeli 200 liczb od 1 do 10\r\n",
        "x = np.linspace(-2,2,200)\r\n",
        "\r\n",
        "# Przypisanie każdej z liczb wartości funkcji\r\n",
        "y = np.cos(x)\r\n",
        "\r\n",
        "# Rysowanie\r\n",
        "plt.plot(x,y)\r\n",
        "plt.plot(x,g(x))"
      ],
      "execution_count": 20,
      "outputs": [
        {
          "output_type": "execute_result",
          "data": {
            "text/plain": [
              "[<matplotlib.lines.Line2D at 0x7fa3102bf290>]"
            ]
          },
          "metadata": {
            "tags": []
          },
          "execution_count": 20
        },
        {
          "output_type": "display_data",
          "data": {
            "image/png": "[encoded data removed]",
            "text/plain": [
              "<Figure size 432x288 with 1 Axes>"
            ]
          },
          "metadata": {
            "tags": [],
            "needs_background": "light"
          }
        }
      ]
    },
    {
      "cell_type": "markdown",
      "metadata": {
        "id": "YM9WpQb7FaTY"
      },
      "source": [
        "### **Zadanie 1**\r\n",
        "\r\n",
        "Napisz funkcję liczącą wartość $n!$ dla dowolnej liczby naturalnej, gdzie $n! = 1\\cdot2\\cdot3\\cdot4\\cdot \\dots n$."
      ]
    },
    {
      "cell_type": "code",
      "metadata": {
        "id": "vTNnciIdGBaH"
      },
      "source": [
        "def silnia(n):\r\n",
        "\r\n",
        "\r\n",
        "  return y"
      ],
      "execution_count": null,
      "outputs": []
    },
    {
      "cell_type": "markdown",
      "metadata": {
        "id": "510KNffxhTHl"
      },
      "source": [
        "### **Zadanie 2**\r\n",
        "\r\n",
        "Policz pochodną funkcji $f(x) = x^2$ korzystając z poniższej definicji:\r\n",
        "\r\n",
        "$f'(x) = \\lim_{h \\to 0} \\frac{f(x+h)-f(x)}{h}$"
      ]
    },
    {
      "cell_type": "code",
      "metadata": {
        "id": "E44NMbW1iBA5"
      },
      "source": [
        "# Definiujemy tablicę n wartości x z przedziału od a do b\r\n",
        "a = -5\r\n",
        "b = 5\r\n",
        "n = 100\r\n",
        "\r\n",
        "x = np.linspace(a,b,n)\r\n",
        "print(x)"
      ],
      "execution_count": null,
      "outputs": []
    },
    {
      "cell_type": "code",
      "metadata": {
        "id": "_bYV5lohim_E"
      },
      "source": [
        "# Liczymy wartość naszej funkcji dla wszystkich wartości x\r\n",
        "y = x**2\r\n",
        "\r\n",
        "print(y)"
      ],
      "execution_count": null,
      "outputs": []
    },
    {
      "cell_type": "code",
      "metadata": {
        "id": "8rAI14G-JZno"
      },
      "source": [
        "# W tym okienku policz pochodną f(x):\r\n",
        "\r\n",
        "df = (y[0:-1] - y[1:])/(x[0:-1] - x[1:])"
      ],
      "execution_count": 41,
      "outputs": []
    },
    {
      "cell_type": "code",
      "metadata": {
        "id": "jNWD-Ull9eKU",
        "outputId": "3df3c47b-458c-4485-9640-1c16df824c25",
        "colab": {
          "base_uri": "https://localhost:8080/",
          "height": 282
        }
      },
      "source": [
        "plt.plot(x,y)\r\n",
        "plt.plot(x[0:-1],df)"
      ],
      "execution_count": 42,
      "outputs": [
        {
          "output_type": "execute_result",
          "data": {
            "text/plain": [
              "[<matplotlib.lines.Line2D at 0x7fa30fd7b290>]"
            ]
          },
          "metadata": {
            "tags": []
          },
          "execution_count": 42
        },
        {
          "output_type": "display_data",
          "data": {
            "image/png": "[encoded data removed]",
            "text/plain": [
              "<Figure size 432x288 with 1 Axes>"
            ]
          },
          "metadata": {
            "tags": [],
            "needs_background": "light"
          }
        }
      ]
    },
    {
      "cell_type": "markdown",
      "metadata": {
        "id": "BMJJU3FKJyaw"
      },
      "source": [
        "### **Zadanie 3**\r\n",
        "\r\n",
        "a) Napisz funkcję liczącą sumę $k$ pierwszych wyrazów poniższego szeregu:\r\n",
        "\r\n",
        "> $\\mathrm{e}^x = \\sum^\\infty_{n=0} \\frac{x^n}{n!}$\r\n",
        "\r\n",
        "\r\n",
        "b) Narysuj wykres pokazujący jak błąd przybliżenia zmienia się z $k$ dla różnych wartości $x$.\r\n",
        "\r\n"
      ]
    },
    {
      "cell_type": "code",
      "metadata": {
        "id": "seC1jr5zhqKx"
      },
      "source": [
        ""
      ],
      "execution_count": null,
      "outputs": []
    },
    {
      "cell_type": "markdown",
      "metadata": {
        "id": "WgxoAcJnh71C"
      },
      "source": [
        "### **Zadanie 4**\r\n",
        "\r\n",
        "a) Rozwiń $sin(x)$ w szereg i napisz funkcję liczącą sumę $k$ pierwszych wyrazów tego szeregu.\r\n",
        "\r\n",
        "$\\sin x = \\sum^\\infty_{n=0} \\frac{(-1)^n}{(2n+1)!} x^{2n+1}\\quad$\r\n",
        "\r\n",
        "b) Narysuj wykres pokazujący jak błąd przybliżenia zmienia się z $k$ dla różnych wartości $x$."
      ]
    },
    {
      "cell_type": "code",
      "metadata": {
        "id": "kP0eKswLj8PY"
      },
      "source": [
        ""
      ],
      "execution_count": null,
      "outputs": []
    },
    {
      "cell_type": "markdown",
      "metadata": {
        "id": "MUqZdW4ughiU"
      },
      "source": [
        "### **Zadanie 5**\r\n",
        "\r\n",
        "a) Wyprowadź wzór na rozwinięcie w szereg funkcji $cos(x)$:\r\n",
        "\r\n",
        "$\\cos x = \\sum^\\infty_{n=0} \\frac{(-1)^n}{(2n)!} x^{2n}\\quad$\r\n",
        "\r\n",
        "b) Narysuj jak wartość sumy $cos^2(x) + sin^2(x)$ zmienia się z liczbą sumowanych składników."
      ]
    },
    {
      "cell_type": "code",
      "metadata": {
        "id": "7txbr_Hq9vH4"
      },
      "source": [
        ""
      ],
      "execution_count": null,
      "outputs": []
    },
    {
      "cell_type": "markdown",
      "metadata": {
        "id": "_2amwo4v_Nru"
      },
      "source": [
        "### **Zadanie 6**\r\n",
        "\r\n",
        "a) Rozwiń w szereg Maclaurina funkcję $\\log(1+x)$.\r\n",
        "\r\n",
        "b) Podaj przedział zbnieżności szeregu.\r\n",
        "\r\n",
        "c) Napisz dlaczego nie można rozwijać w szereg Maclaurina funkcji $\\log(x)$"
      ]
    },
    {
      "cell_type": "code",
      "metadata": {
        "id": "_SWpGeA7AFpA"
      },
      "source": [
        ""
      ],
      "execution_count": null,
      "outputs": []
    }
  ]
}