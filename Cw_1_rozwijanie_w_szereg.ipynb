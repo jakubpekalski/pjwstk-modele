{
  "nbformat": 4,
  "nbformat_minor": 0,
  "metadata": {
    "colab": {
      "name": "Cw 1. rozwijanie w szereg.ipynb",
      "provenance": [],
      "authorship_tag": "ABX9TyOCDrPs2Ir2EOw3qDzN8tgK",
      "include_colab_link": true
    },
    "kernelspec": {
      "name": "python3",
      "display_name": "Python 3"
    }
  },
  "cells": [
    {
      "cell_type": "markdown",
      "metadata": {
        "id": "view-in-github",
        "colab_type": "text"
      },
      "source": [
        "<a href=\"https://colab.research.google.com/github/jakubpekalski/pjwstk-modele/blob/main/Cw_1_rozwijanie_w_szereg.ipynb\" target=\"_parent\"><img src=\"https://colab.research.google.com/assets/colab-badge.svg\" alt=\"Open In Colab\"/></a>"
      ]
    },
    {
      "cell_type": "markdown",
      "metadata": {
        "id": "uiNmey7lUxba"
      },
      "source": [
        "\r\n",
        "#**Ćwiczenia 1**\r\n",
        "\r\n",
        "### Czego się nauczymy?\r\n",
        "\r\n",
        "1. Podstawowych poleceń i składni pythona\r\n",
        "2. Korzystania google colabolatory\r\n",
        "3. Przybliżania funkcji wielomianem\r\n",
        "\r\n"
      ]
    },
    {
      "cell_type": "code",
      "metadata": {
        "id": "XrsRwYqpTyXd"
      },
      "source": [
        "# Podstawową biblioteką do obliczeń numerycznych w pythonie jest numpy:\r\n",
        "import numpy as np\r\n",
        "\r\n",
        "# Rysować wykresy będziemy korzystając z biblioteki matplotlib:\r\n",
        "import matplotlib.pyplot as plt"
      ],
      "execution_count": 4,
      "outputs": []
    },
    {
      "cell_type": "code",
      "metadata": {
        "id": "MaOtE74kT--I"
      },
      "source": [
        ""
      ],
      "execution_count": null,
      "outputs": []
    }
  ]
}