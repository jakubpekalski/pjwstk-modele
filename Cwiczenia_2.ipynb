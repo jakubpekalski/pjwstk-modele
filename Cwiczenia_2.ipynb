{
  "nbformat": 4,
  "nbformat_minor": 0,
  "metadata": {
    "colab": {
      "name": "Cwiczenia 2.ipynb",
      "provenance": [],
      "collapsed_sections": [],
      "authorship_tag": "ABX9TyN5D1vyV5m1OH+mjXLS2MDG",
      "include_colab_link": true
    },
    "kernelspec": {
      "name": "python3",
      "display_name": "Python 3"
    }
  },
  "cells": [
    {
      "cell_type": "markdown",
      "metadata": {
        "id": "view-in-github",
        "colab_type": "text"
      },
      "source": [
        "<a href=\"https://colab.research.google.com/github/jakubpekalski/pjwstk-modele/blob/main/Cwiczenia_2.ipynb\" target=\"_parent\"><img src=\"https://colab.research.google.com/assets/colab-badge.svg\" alt=\"Open In Colab\"/></a>"
      ]
    },
    {
      "cell_type": "markdown",
      "metadata": {
        "id": "CS6vzfo13Dds"
      },
      "source": [
        "## W poniższym okienku proszę wpisać swoje **imię, nazwisko i numer grupy**."
      ]
    },
    {
      "cell_type": "markdown",
      "metadata": {
        "id": "hyuE6OZ523AF"
      },
      "source": [
        "*   Imię:\r\n",
        "*   Nazwisko:\r\n",
        "*   Grupa:"
      ]
    },
    {
      "cell_type": "markdown",
      "metadata": {
        "id": "oU0EjXbq03XG"
      },
      "source": [
        "## **Wstęp**\r\n",
        "\r\n",
        "Równanie różniczkowe pierwszego stopnia postaci:\r\n",
        "\r\n",
        "$y'(t) = f(y,t)$\r\n",
        "\r\n",
        "$y(0) = y_0$.\r\n",
        "\r\n",
        "Można rozwiązań korzystając z [metody Eulera](https://pl.wikipedia.org/wiki/Metoda_Eulera):\r\n",
        "\r\n",
        "$ y (t+h) = y(t) + h f(y,t)$,\r\n",
        "\r\n",
        "lub dokładniejszej metody [midpoint](https://en.wikipedia.org/wiki/Midpoint_method):\r\n",
        "\r\n",
        "$ y(t+h) = y(t) + h f\\left(y(t) + \\frac{h}{2} f(y(t),t), t + \\frac{h}{2}\\right)$."
      ]
    },
    {
      "cell_type": "markdown",
      "metadata": {
        "id": "knzdBtVqh8th"
      },
      "source": [
        " # **Zadanie 1** \r\n",
        " Uzupełnij poniższą funkcję $odeEuler$, tak by poprawnie wykonywała ona kolejne kroki metody Eulera rozwiązywania równań różniczkowych pierwszego stopnia."
      ]
    },
    {
      "cell_type": "code",
      "metadata": {
        "id": "juDpNHe2v61o"
      },
      "source": [
        "import matplotlib.pyplot as plt\r\n",
        "import numpy as np\r\n",
        "\r\n",
        "def odeEuler(f,y0,t):\r\n",
        "    '''\r\n",
        "    f : funkcja, prawa strona rozwiązywanego równania różniczkowego: f(y,t)\r\n",
        "    y0 : liczba, wartość początkowa y\r\n",
        "    t : jednowymiarowa tablica numpy\r\n",
        "    '''\r\n",
        "    y = np.zeros(len(t))\r\n",
        "    y[0] = y0\r\n",
        "    for n in range(0,len(t)-1):\r\n",
        "        # !! Tu uzupełniać !!\r\n",
        "        y[n+1] = y[n] + \r\n",
        "    return y"
      ],
      "execution_count": null,
      "outputs": []
    },
    {
      "cell_type": "markdown",
      "metadata": {
        "id": "btG6o0Pu1KRm"
      },
      "source": [
        " # **Zadanie 2** \r\n",
        " \r\n",
        "  $y'(t) = y(t)$, \r\n",
        "  \r\n",
        "  $y(0) = 1$\r\n",
        "\r\n",
        " \r\n",
        "a) Rozwiąż powyższe równanie wykorzystując metodę Eulera. \r\n",
        "\r\n",
        "b) Porównaj uzyskane rozwiązanie z krzywą $e^t$.\r\n",
        "\r\n",
        "c) Narysuj wykresy dla wektorów $t$ o różnej długości.\r\n"
      ]
    },
    {
      "cell_type": "code",
      "metadata": {
        "id": "vAo3XBe0wFKe"
      },
      "source": [
        "# Zdefiniuj przedział czasowy na którym będziemy szukali rozwiązania:\r\n",
        "\r\n",
        "a = \r\n",
        "b = \r\n",
        "\r\n",
        "# Ile kroków zrobimy w tym przedziale?\r\n",
        "n =\r\n",
        "\r\n",
        "# Stworz tablice kroków czasowych t:\r\n",
        "t =\r\n",
        "\r\n",
        "# Podaj wartość w punkcie początkowym:\r\n",
        "y0 =\r\n",
        "\r\n",
        "# Zdefiniuj funkcję f(y,t)\r\n",
        "def f(y,t):\r\n",
        "\r\n",
        "# Znajdź rozwiązanie:\r\n",
        "sol = \r\n",
        "\r\n",
        "# Narysuj uzyskane rozwiązanie w funkcji czasu t\r\n",
        "plt.plot( , )\r\n",
        "\r\n",
        "# Narysuj na tym samym przedziale czasowym funkcję e^t\r\n",
        "plt.plot( , )\r\n",
        "\r\n",
        "plt.show()"
      ],
      "execution_count": null,
      "outputs": []
    },
    {
      "cell_type": "markdown",
      "metadata": {
        "id": "a4bcqVnbq4ge"
      },
      "source": [
        " # **Zadanie 3** \r\n",
        " Uzupełnij poniższą funkcję $odeMidPoint$, tak by poprawnie wykonywała ona kolejne kroki metody Mid Point."
      ]
    },
    {
      "cell_type": "code",
      "metadata": {
        "id": "ngv4kRrmq0ki"
      },
      "source": [
        "def odeMidPoint(f,y0,t):\r\n",
        "    '''\r\n",
        "    f : funkcja, prawa strona rozwiązywanego równania różniczkowego: f(y,t)\r\n",
        "    y0 : liczba, wartość początkowa y\r\n",
        "    t : jednowymiarowa tablica numpy taka, ze h = t[i+1]-t[i] jest takie samo\r\n",
        "        dla każdego i\r\n",
        "    '''\r\n",
        "\r\n",
        "    return y"
      ],
      "execution_count": null,
      "outputs": []
    },
    {
      "cell_type": "markdown",
      "metadata": {
        "id": "VpSX4_EouIrl"
      },
      "source": [
        " # **Zadanie 4** \r\n",
        "\r\n",
        "\r\n",
        "a)   Rozwiąż równianie:\r\n",
        "\r\n",
        "  $y'(t) = y(t)$, \r\n",
        "  \r\n",
        "  $y(0) = 1$\r\n",
        "\r\n",
        "metodą Mid Point. \r\n",
        "\r\n",
        "b)  Porównaj dokładność metod Eulera i MidPoint.\r\n",
        "\r\n",
        "\r\n",
        "\r\n",
        "\r\n"
      ]
    },
    {
      "cell_type": "code",
      "metadata": {
        "id": "00RfRX0luFB1"
      },
      "source": [
        ""
      ],
      "execution_count": null,
      "outputs": []
    },
    {
      "cell_type": "markdown",
      "metadata": {
        "id": "s44mgnnyqxQf"
      },
      "source": [
        " # **Zadanie domowe** \r\n",
        "\r\n",
        " Rozwiąż metodami Eulera i MidPoint następujące równanie różniczkowe:\r\n",
        " \r\n",
        "  $y'(t) = y^2(t)$, \r\n",
        "  \r\n",
        "  $y(0) = -1$.\r\n",
        "  \r\n",
        "Uzyskane rozwiązanie porównaj z rozwiązaniem analitycznym $y(t) = \\frac{-1}{t+1}$."
      ]
    }
  ]
}