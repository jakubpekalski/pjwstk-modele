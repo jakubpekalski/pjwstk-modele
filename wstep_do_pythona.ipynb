{
  "nbformat": 4,
  "nbformat_minor": 0,
  "metadata": {
    "colab": {
      "name": "wstep_do_pythona.ipynb",
      "provenance": [],
      "authorship_tag": "ABX9TyMfo+e6fjJm0nfuKaGLi8Sd",
      "include_colab_link": true
    },
    "kernelspec": {
      "name": "python3",
      "display_name": "Python 3"
    }
  },
  "cells": [
    {
      "cell_type": "markdown",
      "metadata": {
        "id": "view-in-github",
        "colab_type": "text"
      },
      "source": [
        "<a href=\"https://colab.research.google.com/github/jakubpekalski/pjwstk-modele/blob/main/wstep_do_pythona.ipynb\" target=\"_parent\"><img src=\"https://colab.research.google.com/assets/colab-badge.svg\" alt=\"Open In Colab\"/></a>"
      ]
    },
    {
      "cell_type": "code",
      "metadata": {
        "id": "s1izsiQ5ToKe"
      },
      "source": [
        "# Krótki wstęp do pythona"
      ],
      "execution_count": 1,
      "outputs": []
    },
    {
      "cell_type": "code",
      "metadata": {
        "id": "XrsRwYqpTyXd"
      },
      "source": [
        "# Podstawową biblioteką, z której będziemy korzystać do obliczeń jest numpy\r\n",
        "import numpy as np"
      ],
      "execution_count": 2,
      "outputs": []
    },
    {
      "cell_type": "code",
      "metadata": {
        "id": "MaOtE74kT--I"
      },
      "source": [
        ""
      ],
      "execution_count": null,
      "outputs": []
    }
  ]
}